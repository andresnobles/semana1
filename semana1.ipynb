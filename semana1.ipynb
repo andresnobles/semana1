{
  "nbformat": 4,
  "nbformat_minor": 0,
  "metadata": {
    "colab": {
      "provenance": [],
      "authorship_tag": "ABX9TyNtmnuVy0G069Ngy9fAWjMM",
      "include_colab_link": true
    },
    "kernelspec": {
      "name": "python3",
      "display_name": "Python 3"
    },
    "language_info": {
      "name": "python"
    }
  },
  "cells": [
    {
      "cell_type": "markdown",
      "metadata": {
        "id": "view-in-github",
        "colab_type": "text"
      },
      "source": [
        "<a href=\"https://colab.research.google.com/github/andresnobles/semana1/blob/main/semana1.ipynb\" target=\"_parent\"><img src=\"https://colab.research.google.com/assets/colab-badge.svg\" alt=\"Open In Colab\"/></a>"
      ]
    },
    {
      "cell_type": "code",
      "execution_count": 2,
      "metadata": {
        "colab": {
          "base_uri": "https://localhost:8080/"
        },
        "id": "2ihS5Rbd7Wq-",
        "outputId": "93493009-3dbd-4ba3-adeb-963379c25796"
      },
      "outputs": [
        {
          "output_type": "stream",
          "name": "stdout",
          "text": [
            "Datos del Estudiante:\n",
            "Nombre: Juan Pérez\n",
            "Edad: 20 años\n",
            "¿Cuál es tu asignatura favorita? programacion\n",
            "¡Qué bien! Tu asignatura favorita es programacion.\n"
          ]
        }
      ],
      "source": [
        "# 1. Variables y tipos de datos\n",
        "nombre_estudiante = \"Juan Pérez\"\n",
        "edad = 20\n",
        "promedio = 4.2\n",
        "es_regular = True\n",
        "# 2. La función print() para mostrar información\n",
        "print(\"Datos del Estudiante:\")\n",
        "print(\"Nombre:\", nombre_estudiante)\n",
        "print(f\"Edad: {edad} años\") # Usando f-strings, una forma moderna y útil\n",
        "# 3. La función input() para recibir datos del usuario\n",
        "asignatura_favorita = input(\"¿Cuál es tu asignatura favorita? \")\n",
        "print(f\"¡Qué bien! Tu asignatura favorita es {asignatura_favorita}.\")"
      ]
    },
    {
      "cell_type": "code",
      "metadata": {
        "colab": {
          "base_uri": "https://localhost:8080/"
        },
        "id": "fc20a223",
        "outputId": "65c76dc1-e063-44e5-ce66-89f83784a98a"
      },
      "source": [
        "# Definir dos números\n",
        "num1 = 15\n",
        "num2 = 5\n",
        "\n",
        "# Realizar las operaciones\n",
        "suma = num1 + num2\n",
        "resta = num1 - num2\n",
        "multiplicacion = num1 * num2\n",
        "division = num1 / num2\n",
        "\n",
        "# Mostrar los resultados\n",
        "print(f\"El primer número es: {num1}\")\n",
        "print(f\"El segundo número es: {num2}\")\n",
        "print(f\"La suma es: {suma}\")\n",
        "print(f\"La resta es: {resta}\")\n",
        "print(f\"La multiplicación es: {multiplicacion}\")\n",
        "print(f\"La división es: {division}\")"
      ],
      "execution_count": 3,
      "outputs": [
        {
          "output_type": "stream",
          "name": "stdout",
          "text": [
            "El primer número es: 15\n",
            "El segundo número es: 5\n",
            "La suma es: 20\n",
            "La resta es: 10\n",
            "La multiplicación es: 75\n",
            "La división es: 3.0\n"
          ]
        }
      ]
    }
  ]
}